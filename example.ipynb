{
 "cells": [
  {
   "cell_type": "markdown",
   "metadata": {},
   "source": [
    "# ILL data loader example\n"
   ]
  },
  {
   "cell_type": "code",
   "execution_count": null,
   "metadata": {},
   "outputs": [],
   "source": [
    "from illdata import IllSftp\n",
    "\n",
    "ill = IllSftp(\n",
    "    hostname=\"dt.ill.fr\",\n",
    "    username=\"your_username\",\n",
    "    password=\"your secret password\" # do not push to any repo ;)\n",
    "    #alternative way of obtaining password everytime (you need import getpass)\n",
    "    # password = getpass.getpass(\"Enter password for data.ill.fr: \")\n",
    ")\n",
    "\n",
    "# Connect to SFTP\n",
    "ill.connect()"
   ]
  },
  {
   "cell_type": "code",
   "execution_count": null,
   "metadata": {},
   "outputs": [],
   "source": [
    "# get list of proposals:\n",
    "for p in ill.proposals():\n",
    "    print(p)"
   ]
  },
  {
   "cell_type": "code",
   "execution_count": null,
   "metadata": {},
   "outputs": [],
   "source": [
    "# open proposal for reading \n",
    "# (needs to contain exp name, cycle and instrument, as seen in list of proposals)\n",
    "ill.open_proposal(\"1-01-500_170_instrument\")"
   ]
  },
  {
   "cell_type": "code",
   "execution_count": null,
   "metadata": {},
   "outputs": [],
   "source": [
    "# Download selected datafiles\n",
    "for numor in range(15729, 15730):  \n",
    "    # Syntax:         remote folder          local folder\n",
    "    ill.download(f\"rawdata/{numor:06d}\", f\"./{numor:06d}\")\n",
    "ill.disconnect()"
   ]
  }
 ],
 "metadata": {
  "kernelspec": {
   "display_name": "py313",
   "language": "python",
   "name": "python3"
  },
  "language_info": {
   "codemirror_mode": {
    "name": "ipython",
    "version": 3
   },
   "file_extension": ".py",
   "mimetype": "text/x-python",
   "name": "python",
   "nbconvert_exporter": "python",
   "pygments_lexer": "ipython3",
   "version": "3.13.0"
  }
 },
 "nbformat": 4,
 "nbformat_minor": 2
}
