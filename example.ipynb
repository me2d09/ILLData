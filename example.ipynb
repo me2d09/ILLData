{
 "cells": [
  {
   "cell_type": "markdown",
   "metadata": {},
   "source": [
    "# ILL data loader example\n"
   ]
  },
  {
   "cell_type": "code",
   "execution_count": null,
   "metadata": {},
   "outputs": [],
   "source": [
    "from illdata import IllSftp\n",
    "\n",
    "sftp = IllSftp(\n",
    "    hostname=\"dt.ill.fr\",\n",
    "    username=\"your_username\",\n",
    "    password=\"your secret password\" # do not push to any repo ;)\n",
    "    #alternative way of obtaining password everytime (you need import getpass)\n",
    "    # password = getpass.getpass(\"Enter password for data.ill.fr: \")\n",
    ")\n",
    "\n",
    "# Connect to SFTP\n",
    "sftp.connect()"
   ]
  },
  {
   "cell_type": "code",
   "execution_count": null,
   "metadata": {},
   "outputs": [],
   "source": [
    "# get list of proposals:\n",
    "for p in sftp.proposals():\n",
    "    print(p)"
   ]
  },
  {
   "cell_type": "code",
   "execution_count": null,
   "metadata": {},
   "outputs": [],
   "source": [
    "# open proposal for reading (needs to contain exp name, cycle and instrument, as seen in list of proposals)\n",
    "sftp.openproposal(\"X-XX-XXXX_YYY_instrument\")"
   ]
  },
  {
   "cell_type": "code",
   "execution_count": null,
   "metadata": {},
   "outputs": [],
   "source": [
    "# get list of files in folder:\n",
    "for f in sftp.listdir(\"rawdata\"):\n",
    "    print(f)"
   ]
  },
  {
   "cell_type": "code",
   "execution_count": null,
   "metadata": {},
   "outputs": [],
   "source": [
    "# Download selected datafiles\n",
    "for numor in range(1, 20):  \n",
    "    # Syntax:         remote folder          local folder\n",
    "    sftp.download(f\"rawdata/{numor:06d}\", f\"./{numor:06d}\")\n",
    "sftp.disconnect()"
   ]
  },
  {
   "cell_type": "code",
   "execution_count": null,
   "metadata": {},
   "outputs": [],
   "source": []
  }
 ],
 "metadata": {
  "language_info": {
   "name": "python"
  }
 },
 "nbformat": 4,
 "nbformat_minor": 2
}
