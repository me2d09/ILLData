{
 "cells": [
  {
   "cell_type": "markdown",
   "metadata": {},
   "source": [
    "# ILL data loader example\n"
   ]
  },
  {
   "cell_type": "code",
   "execution_count": null,
   "metadata": {},
   "outputs": [],
   "source": [
    "from illdata import IllSftp\n",
    "\n",
    "sftp = IllSftp(\n",
    "    hostname=\"dt.ill.fr\",\n",
    "    username=\"your_username\",\n",
    "    password=\"your secret password\" # do not push to any repo ;)\n",
    "    #alternative way of obtaining password everytime (you need import getpass)\n",
    "    # password = getpass.getpass(\"Enter password for data.ill.fr: \")\n",
    ")\n",
    "\n",
    "# Connect to SFTP\n",
    "sftp.connect()"
   ]
  },
  {
   "cell_type": "code",
   "execution_count": null,
   "metadata": {},
   "outputs": [],
   "source": [
    "# get list of proposals:\n",
    "for p in sftp.proposals():\n",
    "    print(p)"
   ]
  },
  {
   "cell_type": "code",
   "execution_count": null,
   "metadata": {},
   "outputs": [],
   "source": [
    "# open proposal for reading (needs to contain exp name, cycle and instrument, as seen in list of proposals)\n",
    "sftp.open_proposal(\"4-02-503_171_thales\")"
   ]
  },
  {
   "cell_type": "code",
   "execution_count": null,
   "metadata": {},
   "outputs": [],
   "source": [
    "# get list of files in folder:\n",
    "for f in sftp.listdir(\"rawdata\"):\n",
    "    print(f)"
   ]
  },
  {
   "cell_type": "code",
   "execution_count": null,
   "metadata": {},
   "outputs": [],
   "source": [
    "# Download selected datafiles\n",
    "for numor in range(15729, 15730):  \n",
    "    # Syntax:         remote folder          local folder\n",
    "    sftp.download(f\"rawdata/{numor:06d}\", f\"./{numor:06d}\")\n",
    "sftp.disconnect()"
   ]
  }
 ],
 "metadata": {
  "kernelspec": {
   "display_name": "py313",
   "language": "python",
   "name": "python3"
  },
  "language_info": {
   "codemirror_mode": {
    "name": "ipython",
    "version": 3
   },
   "file_extension": ".py",
   "mimetype": "text/x-python",
   "name": "python",
   "nbconvert_exporter": "python",
   "pygments_lexer": "ipython3",
   "version": "3.13.0"
  }
 },
 "nbformat": 4,
 "nbformat_minor": 2
}
